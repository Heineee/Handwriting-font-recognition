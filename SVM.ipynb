{
 "cells": [
  {
   "cell_type": "code",
   "id": "initial_id",
   "metadata": {
    "collapsed": true,
    "ExecuteTime": {
     "end_time": "2025-01-04T09:40:28.718408Z",
     "start_time": "2025-01-04T09:40:28.711404Z"
    }
   },
   "source": [
    "import torch\n",
    "from torchvision import  datasets, transforms\n",
    "import numpy as np\n",
    "from sklearn  import svm\n",
    "from sklearn.metrics import classification_report\n",
    "import time\n",
    "import warnings\n",
    "warnings.filterwarnings(\"ignore\")"
   ],
   "outputs": [],
   "execution_count": 6
  },
  {
   "metadata": {
    "ExecuteTime": {
     "end_time": "2025-01-04T09:40:28.750369Z",
     "start_time": "2025-01-04T09:40:28.737284Z"
    }
   },
   "cell_type": "code",
   "source": [
    "pipeline=transforms.Compose(\n",
    "    [transforms.ToTensor(),\n",
    "     transforms.Normalize((0.1307,),(0.3081,))]\n",
    ")"
   ],
   "id": "dcfd6001f273719b",
   "outputs": [],
   "execution_count": 7
  },
  {
   "metadata": {
    "ExecuteTime": {
     "end_time": "2025-01-04T09:40:28.878342Z",
     "start_time": "2025-01-04T09:40:28.768362Z"
    }
   },
   "cell_type": "code",
   "source": [
    "from torch.utils.data import DataLoader\n",
    "\n",
    "train_set=datasets.MNIST(\n",
    "    root=\"../data\",\n",
    "    train=True,\n",
    "    download=True,\n",
    "    transform=pipeline\n",
    ")\n",
    "\n",
    "test_set=datasets.MNIST(\n",
    "    root=\"../data\",\n",
    "    train=False,\n",
    "    download=True,\n",
    "    transform=pipeline\n",
    ")\n",
    "\n",
    "train_x=torch.unsqueeze(train_set.data, dim=1).type(torch.float32)\n",
    "train_x=train_x.view(-1,28*28)\n",
    "train_y=train_set.targets\n",
    "\n",
    "test_x=torch.unsqueeze(test_set.data, dim=1).type(torch.float32)\n",
    "test_x=test_x.view(-1,28*28)\n",
    "test_y=test_set.targets\n",
    "\n",
    "trainData=np.array(train_x)\n",
    "trainLabels=np.array(train_y)\n",
    "testData=np.array(test_x)\n",
    "testLabels=np.array(test_y)\n",
    "\n",
    "valData = testData\n",
    "valLabels = testLabels"
   ],
   "id": "e5cbf7228c34d436",
   "outputs": [],
   "execution_count": 8
  },
  {
   "metadata": {
    "ExecuteTime": {
     "end_time": "2025-01-04T09:41:41.038342Z",
     "start_time": "2025-01-04T09:40:28.897338Z"
    }
   },
   "cell_type": "code",
   "source": [
    "clf=svm.SVC(max_iter=100)\n",
    "start=time.time()\n",
    "clf.fit(trainData, trainLabels)\n",
    "end=time.time()\n",
    "with open('../result/SVM.txt', 'a') as f:\n",
    "    f.write(\"Training time: \"+str(end-start))\n",
    "start=time.time()\n",
    "test_res=clf.predict(testData)\n",
    "end=time.time()\n",
    "with open('../result/SVM.txt', 'a') as f:\n",
    "    f.write(\"Testing time: \"+str(end-start))\n",
    "with open('../result/SVM.txt', 'a') as f:\n",
    "    f.write(classification_report(testLabels, test_res))"
   ],
   "id": "6e9ba2caad7fe409",
   "outputs": [],
   "execution_count": 9
  },
  {
   "metadata": {
    "ExecuteTime": {
     "end_time": "2025-01-04T09:41:41.134358Z",
     "start_time": "2025-01-04T09:41:41.057350Z"
    }
   },
   "cell_type": "code",
   "source": "!python --version",
   "id": "96ef56acd9fba6b3",
   "outputs": [
    {
     "name": "stdout",
     "output_type": "stream",
     "text": [
      "Python 3.9.0\n"
     ]
    }
   ],
   "execution_count": 10
  }
 ],
 "metadata": {
  "kernelspec": {
   "display_name": "Python 3",
   "language": "python",
   "name": "python3"
  },
  "language_info": {
   "codemirror_mode": {
    "name": "ipython",
    "version": 2
   },
   "file_extension": ".py",
   "mimetype": "text/x-python",
   "name": "python",
   "nbconvert_exporter": "python",
   "pygments_lexer": "ipython2",
   "version": "2.7.6"
  }
 },
 "nbformat": 4,
 "nbformat_minor": 5
}
