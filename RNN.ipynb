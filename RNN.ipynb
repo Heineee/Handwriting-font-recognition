{
 "cells": [
  {
   "metadata": {},
   "cell_type": "raw",
   "source": "",
   "id": "ad31b5b0ae4aa275"
  },
  {
   "cell_type": "code",
   "id": "initial_id",
   "metadata": {
    "collapsed": true,
    "ExecuteTime": {
     "end_time": "2025-01-04T09:48:55.986315Z",
     "start_time": "2025-01-04T09:48:54.257285Z"
    }
   },
   "source": [
    "import torch\n",
    "import torch.nn as nn\n",
    "import torch.nn.functional as F\n",
    "import torch.optim as optim\n",
    "from torchvision import  datasets, transforms"
   ],
   "outputs": [],
   "execution_count": 1
  },
  {
   "metadata": {
    "ExecuteTime": {
     "end_time": "2025-01-04T09:48:56.002316Z",
     "start_time": "2025-01-04T09:48:55.993287Z"
    }
   },
   "cell_type": "code",
   "source": [
    "BATCH_SIZE = 512\n",
    "EPOCHS = 10\n",
    "DEVICE = torch.device(\"cuda\" if torch.cuda.is_available() else \"cpu\")"
   ],
   "id": "967263bbfbd945f1",
   "outputs": [],
   "execution_count": 2
  },
  {
   "metadata": {
    "ExecuteTime": {
     "end_time": "2025-01-04T09:48:56.289279Z",
     "start_time": "2025-01-04T09:48:56.275275Z"
    }
   },
   "cell_type": "code",
   "source": [
    "pipeline=transforms.Compose(\n",
    "    [transforms.ToTensor(),\n",
    "     transforms.Normalize((0.1307,),(0.3081,))]\n",
    ")"
   ],
   "id": "727a2ba5e6462702",
   "outputs": [],
   "execution_count": 3
  },
  {
   "metadata": {
    "ExecuteTime": {
     "end_time": "2025-01-04T09:48:56.368270Z",
     "start_time": "2025-01-04T09:48:56.307272Z"
    }
   },
   "cell_type": "code",
   "source": [
    "from torch.utils.data import DataLoader\n",
    "\n",
    "train_set=datasets.MNIST(\n",
    "    root=\"../data\",\n",
    "    train=True,\n",
    "    download=True,\n",
    "    transform=pipeline\n",
    ")\n",
    "\n",
    "test_set=datasets.MNIST(\n",
    "    root=\"../data\",\n",
    "    train=False,\n",
    "    download=True,\n",
    "    transform=pipeline\n",
    ")\n",
    "\n",
    "train_loader=DataLoader(train_set, batch_size=BATCH_SIZE, shuffle=True)\n",
    "test_loader=DataLoader(test_set, batch_size=BATCH_SIZE, shuffle=True)\n"
   ],
   "id": "45981f3916f3fa9",
   "outputs": [],
   "execution_count": 4
  },
  {
   "metadata": {
    "ExecuteTime": {
     "end_time": "2025-01-04T09:48:56.400273Z",
     "start_time": "2025-01-04T09:48:56.386273Z"
    }
   },
   "cell_type": "code",
   "source": [
    "def train(model,device,train_loader,optimizer,epoch):\n",
    "    model.train()\n",
    "    for batch_idx,(data,target) in enumerate(train_loader):\n",
    "        data,target=data.to(device),target.to(device)\n",
    "        optimizer.zero_grad()\n",
    "        output=model(data)\n",
    "        loss=F.cross_entropy(output,target)\n",
    "        loss.backward()\n",
    "        optimizer.step()\n",
    "    # 把输出内容保存在 “CNN.txt” 文件中\n",
    "    with open(\"../result/RNN.txt\", \"a\") as f:\n",
    "        f.write(\"Epoch: %d, Loss: %f\\n\" % (epoch, loss.item()))\n",
    "        "
   ],
   "id": "6ab34095b04ec476",
   "outputs": [],
   "execution_count": 5
  },
  {
   "metadata": {
    "ExecuteTime": {
     "end_time": "2025-01-04T09:48:56.432273Z",
     "start_time": "2025-01-04T09:48:56.418274Z"
    }
   },
   "cell_type": "code",
   "source": [
    "def test(model,device,test_loader):\n",
    "    model.eval()\n",
    "    test_loss=0\n",
    "    correct=0\n",
    "    with torch.no_grad():\n",
    "        for data,target in test_loader:\n",
    "            data,target=data.to(device),target.to(device)\n",
    "            output=model(data)\n",
    "            test_loss+=F.cross_entropy(output,target,reduction=\"sum\").item()\n",
    "            pred=output.max(1,keepdim=True)[1]\n",
    "            correct+=pred.eq(target.view_as(pred)).sum().item()\n",
    "    test_loss/=len(test_loader.dataset)\n",
    "    with open(\"../result/RNN.txt\", \"a\") as f:\n",
    "        f.write(\"Test set: Average loss: %f, Accuracy: %d/%d (%f%%)\\n\" % (\n",
    "            test_loss, correct, len(test_loader.dataset),\n",
    "            100. * correct / len(test_loader.dataset)\n",
    "        ))\n",
    "    "
   ],
   "id": "a41a92ebe2fe6b88",
   "outputs": [],
   "execution_count": 6
  },
  {
   "metadata": {
    "ExecuteTime": {
     "end_time": "2025-01-04T09:48:56.464277Z",
     "start_time": "2025-01-04T09:48:56.450272Z"
    }
   },
   "cell_type": "code",
   "source": [
    "import time\n",
    "def train_test(model,device,train_loader,test_loader,optimizer,epoch):\n",
    "    for epoch in range(1,epoch+1):\n",
    "        start=time.time()\n",
    "        train(model,device,train_loader,optimizer,epoch)\n",
    "        end=time.time()\n",
    "        with open(\"../result/RNN.txt\", \"a\") as f:\n",
    "            f.write(\"Train Time:%.2f\\n\" % (end-start))\n",
    "        start=time.time()\n",
    "        test(model,device,test_loader)\n",
    "        end=time.time()\n",
    "        with open(\"../result/RNN.txt\", \"a\") as f:\n",
    "            f.write(\"Test Time:%.2f\\n\" % (end-start))"
   ],
   "id": "a2cb17f60bbb9582",
   "outputs": [],
   "execution_count": 7
  },
  {
   "metadata": {
    "ExecuteTime": {
     "end_time": "2025-01-04T09:48:56.496273Z",
     "start_time": "2025-01-04T09:48:56.482273Z"
    }
   },
   "cell_type": "code",
   "source": [
    "class RNN(nn.Module):\n",
    "    def __init__(self):\n",
    "        super(RNN, self).__init__()\n",
    "        self.rnn = nn.LSTM(input_size=28, hidden_size=64, batch_first=True)\n",
    "        self.batchnorm = nn.BatchNorm1d(64)\n",
    "        self.dropout1 = nn.Dropout2d(0.25)\n",
    "        self.dropout2 = nn.Dropout2d(0.5)\n",
    "        self.fc1 = nn.Linear(64, 32)\n",
    "        self.fc2 = nn.Linear(32, 10)\n",
    "\n",
    "    def forward(self, input):\n",
    "        # Shape of input is (batch_size,1, 28, 28)\n",
    "        # converting shape of input to (batch_size, 28, 28)\n",
    "        # as required by RNN when batch_first is set True\n",
    "        input = input.reshape(-1, 28, 28)\n",
    "        output, hidden = self.rnn(input)\n",
    "\n",
    "        # RNN output shape is (seq_len, batch, input_size)\n",
    "        # Get last output of RNN\n",
    "        output = output[:, -1, :]\n",
    "        output = self.batchnorm(output)\n",
    "        output = self.dropout1(output)\n",
    "        output = self.fc1(output)\n",
    "        output = F.relu(output)\n",
    "        output = self.dropout2(output)\n",
    "        output = self.fc2(output)\n",
    "        output = F.log_softmax(output, dim=1)\n",
    "        \n",
    "        return output"
   ],
   "id": "fb3e8e2882170a5e",
   "outputs": [],
   "execution_count": 8
  },
  {
   "metadata": {
    "ExecuteTime": {
     "end_time": "2025-01-04T09:48:56.528270Z",
     "start_time": "2025-01-04T09:48:56.514270Z"
    }
   },
   "cell_type": "code",
   "source": [
    "def run():\n",
    "    model = RNN().to(DEVICE)\n",
    "    print(model)\n",
    "    # optimizer = optim.Adam(model.parameters())\n",
    "    # train_test(model, DEVICE, train_loader, test_loader, optimizer,EPOCHS)"
   ],
   "id": "bf1a5393e794f681",
   "outputs": [],
   "execution_count": 9
  },
  {
   "metadata": {
    "ExecuteTime": {
     "end_time": "2025-01-04T09:48:56.560276Z",
     "start_time": "2025-01-04T09:48:56.547277Z"
    }
   },
   "cell_type": "code",
   "source": [
    "if __name__ == '__main__':\n",
    "    run()"
   ],
   "id": "5243e9bdf5ff4342",
   "outputs": [
    {
     "name": "stdout",
     "output_type": "stream",
     "text": [
      "RNN(\n",
      "  (rnn): LSTM(28, 64, batch_first=True)\n",
      "  (batchnorm): BatchNorm1d(64, eps=1e-05, momentum=0.1, affine=True, track_running_stats=True)\n",
      "  (dropout1): Dropout2d(p=0.25, inplace=False)\n",
      "  (dropout2): Dropout2d(p=0.5, inplace=False)\n",
      "  (fc1): Linear(in_features=64, out_features=32, bias=True)\n",
      "  (fc2): Linear(in_features=32, out_features=10, bias=True)\n",
      ")\n"
     ]
    }
   ],
   "execution_count": 10
  }
 ],
 "metadata": {
  "kernelspec": {
   "display_name": "Python 3",
   "language": "python",
   "name": "python3"
  },
  "language_info": {
   "codemirror_mode": {
    "name": "ipython",
    "version": 2
   },
   "file_extension": ".py",
   "mimetype": "text/x-python",
   "name": "python",
   "nbconvert_exporter": "python",
   "pygments_lexer": "ipython2",
   "version": "2.7.6"
  }
 },
 "nbformat": 4,
 "nbformat_minor": 5
}
