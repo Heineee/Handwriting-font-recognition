{
 "cells": [
  {
   "cell_type": "code",
   "id": "initial_id",
   "metadata": {
    "collapsed": true,
    "ExecuteTime": {
     "end_time": "2025-01-02T05:46:41.242870Z",
     "start_time": "2025-01-02T05:46:41.226875Z"
    }
   },
   "source": [
    "import torch\n",
    "from torchvision import  datasets, transforms\n",
    "import numpy as np\n",
    "from sklearn.neighbors import KNeighborsClassifier\n",
    "from sklearn.metrics import classification_report\n",
    "import time"
   ],
   "outputs": [],
   "execution_count": 38
  },
  {
   "metadata": {
    "ExecuteTime": {
     "end_time": "2025-01-02T05:46:41.258869Z",
     "start_time": "2025-01-02T05:46:41.248872Z"
    }
   },
   "cell_type": "code",
   "source": [
    "pipeline=transforms.Compose(\n",
    "    [transforms.ToTensor(),\n",
    "     transforms.Normalize((0.1307,),(0.3081,))]\n",
    ")"
   ],
   "id": "3fd95960d937f5ab",
   "outputs": [],
   "execution_count": 39
  },
  {
   "metadata": {
    "ExecuteTime": {
     "end_time": "2025-01-02T05:46:41.417869Z",
     "start_time": "2025-01-02T05:46:41.276874Z"
    }
   },
   "cell_type": "code",
   "source": [
    "from torch.utils.data import DataLoader\n",
    "\n",
    "train_set=datasets.MNIST(\n",
    "    root=\"../data\",\n",
    "    train=True,\n",
    "    download=True,\n",
    "    transform=pipeline\n",
    ")\n",
    "\n",
    "test_set=datasets.MNIST(\n",
    "    root=\"../data\",\n",
    "    train=False,\n",
    "    download=True,\n",
    "    transform=pipeline\n",
    ")\n",
    "\n",
    "train_x=torch.unsqueeze(train_set.data, dim=1).type(torch.float32)\n",
    "train_x=train_x.view(-1,28*28)\n",
    "train_y=train_set.targets\n",
    "\n",
    "test_x=torch.unsqueeze(test_set.data, dim=1).type(torch.float32)\n",
    "test_x=test_x.view(-1,28*28)\n",
    "test_y=test_set.targets\n",
    "\n",
    "trainData=np.array(train_x)\n",
    "trainLabels=np.array(train_y)\n",
    "testData=np.array(test_x)\n",
    "testLabels=np.array(test_y)\n",
    "\n",
    "valData = testData\n",
    "valLabels = testLabels"
   ],
   "id": "86dc693df2c8b80e",
   "outputs": [],
   "execution_count": 40
  },
  {
   "metadata": {
    "ExecuteTime": {
     "end_time": "2025-01-02T05:46:41.449872Z",
     "start_time": "2025-01-02T05:46:41.435873Z"
    }
   },
   "cell_type": "code",
   "source": [
    "# print(trainData.shape), print(trainLabels.shape)\n",
    "# print(testData.shape), print(testLabels.shape)\n",
    "# print(valData.shape), print(valLabels.shape)"
   ],
   "id": "16dd2b442c939355",
   "outputs": [],
   "execution_count": 41
  },
  {
   "metadata": {
    "ExecuteTime": {
     "end_time": "2025-01-02T05:49:46.429888Z",
     "start_time": "2025-01-02T05:46:41.486874Z"
    }
   },
   "cell_type": "code",
   "source": [
    "kVals = range(1, 30, 1)\n",
    "accuracies = []\n",
    "\n",
    "# loop over kVals\n",
    "for k in range(1, 30, 1):\n",
    "    # train the classifier with the current value of `k`\n",
    "    model = KNeighborsClassifier(n_neighbors=k)\n",
    "    model.fit(trainData, trainLabels)\n",
    "    # evaluate the model and print the accuracies list\n",
    "    score = model.score(valData, valLabels)\n",
    "    with open(\"../result/KNN.txt\", \"a\") as f:\n",
    "        f.write(\"k=%d, accuracy=%.2f%%\\n\" % (k, score * 100))\n",
    "    accuracies.append(score)\n",
    "\n",
    "# largest accuracy\n",
    "# np.argmax returns the indices of the maximum values along an axis\n",
    "i = np.argmax(accuracies)\n",
    "with open(\"../result/KNN.txt\", \"a\") as f:\n",
    "    f.write(\"k=%d achieved highest accuracy of %.2f%% on validation data\\n\" % (kVals[i], accuracies[i] * 100))\n",
    "\n",
    "# Now that I know the best value of k, re-train the classifier\n",
    "model = KNeighborsClassifier(n_neighbors=kVals[i])\n",
    "start=time.time()\n",
    "model.fit(trainData, trainLabels)\n",
    "# Predict labels for the test set\n",
    "end=time.time()\n",
    "with open(\"../result/KNN.txt\", \"a\") as f:\n",
    "    f.write(\"Training time: %.2f seconds\\n\" % (end-start))\n",
    "start=time.time()\n",
    "predictions = model.predict(testData)\n",
    "end=time.time()\n",
    "with open(\"../result/KNN.txt\", \"a\") as f:\n",
    "    f.write(\"Testing time: %.2f seconds\\n\" % (end-start))\n",
    "# Evaluate performance of model for each of the digits\n",
    "with open(\"../result/KNN.txt\", \"a\") as f:\n",
    "    f.write(\"EVALUATION ON TESTING DATA\\n\")\n",
    "    f.write(classification_report(testLabels, predictions))\n"
   ],
   "id": "ffa005514d4dc451",
   "outputs": [],
   "execution_count": 42
  }
 ],
 "metadata": {
  "kernelspec": {
   "display_name": "Python 3",
   "language": "python",
   "name": "python3"
  },
  "language_info": {
   "codemirror_mode": {
    "name": "ipython",
    "version": 2
   },
   "file_extension": ".py",
   "mimetype": "text/x-python",
   "name": "python",
   "nbconvert_exporter": "python",
   "pygments_lexer": "ipython2",
   "version": "2.7.6"
  }
 },
 "nbformat": 4,
 "nbformat_minor": 5
}
