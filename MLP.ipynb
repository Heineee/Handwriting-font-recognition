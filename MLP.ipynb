{
 "cells": [
  {
   "cell_type": "code",
   "id": "initial_id",
   "metadata": {
    "collapsed": true,
    "ExecuteTime": {
     "end_time": "2025-01-04T09:13:34.780494Z",
     "start_time": "2025-01-04T09:13:32.952503Z"
    }
   },
   "source": [
    "import torch\n",
    "import torch.nn as nn\n",
    "import torch.nn.functional as F\n",
    "import torch.optim as optim\n",
    "from torchvision import  datasets, transforms"
   ],
   "outputs": [],
   "execution_count": 1
  },
  {
   "metadata": {
    "ExecuteTime": {
     "end_time": "2025-01-04T09:13:34.796494Z",
     "start_time": "2025-01-04T09:13:34.788479Z"
    }
   },
   "cell_type": "code",
   "source": [
    "BATCH_SIZE = 512\n",
    "EPOCHS = 10\n",
    "DEVICE = torch.device(\"cuda\" if torch.cuda.is_available() else \"cpu\")"
   ],
   "id": "ec0353e8b80588f0",
   "outputs": [],
   "execution_count": 2
  },
  {
   "metadata": {
    "ExecuteTime": {
     "end_time": "2025-01-04T09:13:35.066987Z",
     "start_time": "2025-01-04T09:13:35.053799Z"
    }
   },
   "cell_type": "code",
   "source": [
    "pipeline=transforms.Compose(\n",
    "    [transforms.ToTensor(),\n",
    "     transforms.Normalize((0.1307,),(0.3081,))]\n",
    ")"
   ],
   "id": "f02b80801f03173e",
   "outputs": [],
   "execution_count": 3
  },
  {
   "metadata": {
    "ExecuteTime": {
     "end_time": "2025-01-04T09:13:35.128769Z",
     "start_time": "2025-01-04T09:13:35.084774Z"
    }
   },
   "cell_type": "code",
   "source": [
    "from torch.utils.data import DataLoader\n",
    "\n",
    "train_set=datasets.MNIST(\n",
    "    root=\"../data\",\n",
    "    train=True,\n",
    "    download=True,\n",
    "    transform=pipeline\n",
    ")\n",
    "\n",
    "test_set=datasets.MNIST(\n",
    "    root=\"../data\",\n",
    "    train=False,\n",
    "    download=True,\n",
    "    transform=pipeline\n",
    ")\n",
    "\n",
    "train_loader=DataLoader(train_set, batch_size=BATCH_SIZE, shuffle=True)\n",
    "test_loader=DataLoader(test_set, batch_size=BATCH_SIZE, shuffle=True)\n"
   ],
   "id": "34b59933efd32d91",
   "outputs": [],
   "execution_count": 4
  },
  {
   "metadata": {
    "ExecuteTime": {
     "end_time": "2025-01-04T09:13:35.159774Z",
     "start_time": "2025-01-04T09:13:35.147786Z"
    }
   },
   "cell_type": "code",
   "source": [
    "def train(model,device,train_loader,optimizer,epoch):\n",
    "    model.train()\n",
    "    for batch_idx,(data,target) in enumerate(train_loader):\n",
    "        data,target=data.to(device),target.to(device)\n",
    "        optimizer.zero_grad()\n",
    "        output=model(data)\n",
    "        loss=F.cross_entropy(output,target)\n",
    "        loss.backward()\n",
    "        optimizer.step()\n",
    "    # 把输出内容保存在 “CNN.txt” 文件中\n",
    "    with open(\"../result/MLP.txt\",\"a\") as f:\n",
    "       f.write(\"Epoch: %d, Loss: %f\\n\" % (epoch, loss.item()))"
   ],
   "id": "ec05e044e1d451fa",
   "outputs": [],
   "execution_count": 5
  },
  {
   "metadata": {
    "ExecuteTime": {
     "end_time": "2025-01-04T09:13:35.190769Z",
     "start_time": "2025-01-04T09:13:35.177770Z"
    }
   },
   "cell_type": "code",
   "source": [
    "def test(model,device,test_loader):\n",
    "    model.eval()\n",
    "    test_loss=0\n",
    "    correct=0\n",
    "    with torch.no_grad():\n",
    "        for data,target in test_loader:\n",
    "            data,target=data.to(device),target.to(device)\n",
    "            output=model(data)\n",
    "            test_loss+=F.cross_entropy(output,target,reduction=\"sum\").item()\n",
    "            pred=output.max(1,keepdim=True)[1]\n",
    "            correct+=pred.eq(target.view_as(pred)).sum().item()\n",
    "    test_loss/=len(test_loader.dataset)\n",
    "    with open(\"../result/MLP.txt\",\"a\") as f:\n",
    "        f.write(\"\\nTest set: Average loss: %f, Accuracy: %d/%d (%f)\\n\" % (\n",
    "            test_loss, correct, len(test_loader.dataset),\n",
    "            100. * correct / len(test_loader.dataset)))\n",
    "    "
   ],
   "id": "49329aa159ca8fb8",
   "outputs": [],
   "execution_count": 6
  },
  {
   "metadata": {
    "ExecuteTime": {
     "end_time": "2025-01-04T09:13:35.222774Z",
     "start_time": "2025-01-04T09:13:35.209777Z"
    }
   },
   "cell_type": "code",
   "source": [
    "import time\n",
    "def train_test(model,device,train_loader,test_loader,optimizer,epoch):\n",
    "    for epoch in range(1,epoch+1):\n",
    "        start=time.time()\n",
    "        train(model,device,train_loader,optimizer,epoch)\n",
    "        end=time.time()\n",
    "        with open(\"../result/MLP.txt\",\"a\") as f:\n",
    "            f.write(\"Train Time: %f\\n\" % (end-start))\n",
    "        start=time.time()\n",
    "        test(model,device,test_loader)\n",
    "        end=time.time()\n",
    "        with open(\"../result/MLP.txt\",\"a\") as f:\n",
    "            f.write(\"Test Time: %f\\n\" % (end-start))\n",
    "            "
   ],
   "id": "c2fe442cd3459559",
   "outputs": [],
   "execution_count": 7
  },
  {
   "metadata": {
    "ExecuteTime": {
     "end_time": "2025-01-04T09:13:35.254771Z",
     "start_time": "2025-01-04T09:13:35.241775Z"
    }
   },
   "cell_type": "code",
   "source": [
    "class MLP(nn.Module):\n",
    "    def __init__(self):\n",
    "        super(MLP, self).__init__()\n",
    "        self.fc1=nn.Linear(28*28,512)\n",
    "        self.fc2=nn.Linear(512,256)\n",
    "        self.fc3=nn.Linear(256,10)\n",
    "    def forward(self,x):\n",
    "        x=x.view(-1,28*28)\n",
    "        x=F.relu(self.fc1(x))\n",
    "        x=F.relu(self.fc2(x))\n",
    "        x=self.fc3(x)\n",
    "        return F.log_softmax(x,dim=1)\n"
   ],
   "id": "8649bec01793d0e9",
   "outputs": [],
   "execution_count": 8
  },
  {
   "metadata": {
    "ExecuteTime": {
     "end_time": "2025-01-04T09:13:35.286784Z",
     "start_time": "2025-01-04T09:13:35.273775Z"
    }
   },
   "cell_type": "code",
   "source": [
    "def run():\n",
    "    model=MLP().to(DEVICE)\n",
    "    print(model)\n",
    "    # optimizer=optim.Adam(model.parameters())\n",
    "    # train_test(model,DEVICE,train_loader,test_loader,optimizer,EPOCHS)"
   ],
   "id": "a995160948d44129",
   "outputs": [],
   "execution_count": 9
  },
  {
   "metadata": {
    "ExecuteTime": {
     "end_time": "2025-01-04T09:13:35.334782Z",
     "start_time": "2025-01-04T09:13:35.305781Z"
    }
   },
   "cell_type": "code",
   "source": [
    "if __name__ == \"__main__\":\n",
    "    run()"
   ],
   "id": "e4e2d8172c46df5e",
   "outputs": [
    {
     "name": "stdout",
     "output_type": "stream",
     "text": [
      "MLP(\n",
      "  (fc1): Linear(in_features=784, out_features=512, bias=True)\n",
      "  (fc2): Linear(in_features=512, out_features=256, bias=True)\n",
      "  (fc3): Linear(in_features=256, out_features=10, bias=True)\n",
      ")\n"
     ]
    }
   ],
   "execution_count": 10
  }
 ],
 "metadata": {
  "kernelspec": {
   "display_name": "Python 3",
   "language": "python",
   "name": "python3"
  },
  "language_info": {
   "codemirror_mode": {
    "name": "ipython",
    "version": 2
   },
   "file_extension": ".py",
   "mimetype": "text/x-python",
   "name": "python",
   "nbconvert_exporter": "python",
   "pygments_lexer": "ipython2",
   "version": "2.7.6"
  }
 },
 "nbformat": 4,
 "nbformat_minor": 5
}
