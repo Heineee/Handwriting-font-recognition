{
 "cells": [
  {
   "cell_type": "code",
   "id": "initial_id",
   "metadata": {
    "collapsed": true,
    "ExecuteTime": {
     "end_time": "2025-01-04T09:25:06.848471Z",
     "start_time": "2025-01-04T09:25:04.304113Z"
    }
   },
   "source": [
    "import torch\n",
    "import torch.nn as nn\n",
    "import torch.nn.functional as F\n",
    "import torch.optim as optim\n",
    "from torchvision import  datasets, transforms"
   ],
   "outputs": [],
   "execution_count": 1
  },
  {
   "metadata": {
    "ExecuteTime": {
     "end_time": "2025-01-04T09:25:06.879544Z",
     "start_time": "2025-01-04T09:25:06.864535Z"
    }
   },
   "cell_type": "code",
   "source": [
    "BATCH_SIZE = 512\n",
    "EPOCHS = 10\n",
    "DEVICE = torch.device(\"cuda\" if torch.cuda.is_available() else \"cpu\")"
   ],
   "id": "6aa5ef6126040fac",
   "outputs": [],
   "execution_count": 2
  },
  {
   "metadata": {
    "ExecuteTime": {
     "end_time": "2025-01-04T09:25:06.895523Z",
     "start_time": "2025-01-04T09:25:06.887525Z"
    }
   },
   "cell_type": "code",
   "source": [
    "pipeline=transforms.Compose(\n",
    "    [transforms.ToTensor(),\n",
    "     transforms.Normalize((0.1307,),(0.3081,))]\n",
    ")"
   ],
   "id": "162635b3316bd3e6",
   "outputs": [],
   "execution_count": 3
  },
  {
   "metadata": {
    "ExecuteTime": {
     "end_time": "2025-01-04T09:25:07.293535Z",
     "start_time": "2025-01-04T09:25:07.183546Z"
    }
   },
   "cell_type": "code",
   "source": [
    "from torch.utils.data import DataLoader\n",
    "\n",
    "train_set=datasets.MNIST(\n",
    "    root=\"../data\",\n",
    "    train=True,\n",
    "    download=True,\n",
    "    transform=pipeline\n",
    ")\n",
    "\n",
    "test_set=datasets.MNIST(\n",
    "    root=\"../data\",\n",
    "    train=False,\n",
    "    download=True,\n",
    "    transform=pipeline\n",
    ")\n",
    "\n",
    "train_loader=DataLoader(train_set, batch_size=BATCH_SIZE, shuffle=True)\n",
    "test_loader=DataLoader(test_set, batch_size=BATCH_SIZE, shuffle=True)\n"
   ],
   "id": "660e94331fb6107d",
   "outputs": [],
   "execution_count": 4
  },
  {
   "metadata": {
    "ExecuteTime": {
     "end_time": "2025-01-04T09:25:07.325543Z",
     "start_time": "2025-01-04T09:25:07.313536Z"
    }
   },
   "cell_type": "code",
   "source": [
    "def train(model,device,train_loader,optimizer,epoch):\n",
    "    model.train()\n",
    "    for batch_idx,(data,target) in enumerate(train_loader):\n",
    "        data,target=data.to(device),target.to(device)\n",
    "        optimizer.zero_grad()\n",
    "        output=model(data)\n",
    "        loss=F.cross_entropy(output,target)\n",
    "        loss.backward()\n",
    "        optimizer.step()\n",
    "    # 把输出内容保存在 “CNN.txt” 文件中\n",
    "    with open(\"../result/LR.txt\", \"a\") as f:\n",
    "        f.write(f\"Epoch {epoch}, Loss: {loss.item()}\\n\")\n",
    "        "
   ],
   "id": "370095aaf8f8d57e",
   "outputs": [],
   "execution_count": 5
  },
  {
   "metadata": {
    "ExecuteTime": {
     "end_time": "2025-01-04T09:25:07.357537Z",
     "start_time": "2025-01-04T09:25:07.345535Z"
    }
   },
   "cell_type": "code",
   "source": [
    "def test(model,device,test_loader):\n",
    "    model.eval()\n",
    "    test_loss=0\n",
    "    correct=0\n",
    "    with torch.no_grad():\n",
    "        for data,target in test_loader:\n",
    "            data,target=data.to(device),target.to(device)\n",
    "            output=model(data)\n",
    "            test_loss+=F.cross_entropy(output,target,reduction=\"sum\").item()\n",
    "            pred=output.max(1,keepdim=True)[1]\n",
    "            correct+=pred.eq(target.view_as(pred)).sum().item()\n",
    "    test_loss/=len(test_loader.dataset)\n",
    "    with open(\"../result/LR.txt\",\"a\") as f:\n",
    "        f.write(\"\\nTest set: Average loss: %f, Accuracy: %d/%d (%f)\\n\" % (\n",
    "            test_loss, correct, len(test_loader.dataset),\n",
    "            100. * correct / len(test_loader.dataset)))\n",
    "    "
   ],
   "id": "381df3b5bb5377b3",
   "outputs": [],
   "execution_count": 6
  },
  {
   "metadata": {
    "ExecuteTime": {
     "end_time": "2025-01-04T09:25:07.405555Z",
     "start_time": "2025-01-04T09:25:07.383538Z"
    }
   },
   "cell_type": "code",
   "source": [
    "import time\n",
    "def train_test(model,device,train_loader,test_loader,optimizer,epoch):\n",
    "    for epoch in range(1,epoch+1):\n",
    "        start=time.time()\n",
    "        train(model,device,train_loader,optimizer,epoch)\n",
    "        end=time.time()\n",
    "        with open(\"../result/LR.txt\",\"a\") as f:\n",
    "            f.write(\"Train Time: %f\\n\" % (end-start))\n",
    "        start=time.time()\n",
    "        test(model,device,test_loader)\n",
    "        end=time.time()\n",
    "        with open(\"../result/LR.txt\",\"a\") as f:\n",
    "            f.write(\"Test Time: %f\\n\" % (end-start))\n",
    "            "
   ],
   "id": "816af2f21109b337",
   "outputs": [],
   "execution_count": 7
  },
  {
   "metadata": {
    "ExecuteTime": {
     "end_time": "2025-01-04T09:25:07.437529Z",
     "start_time": "2025-01-04T09:25:07.423536Z"
    }
   },
   "cell_type": "code",
   "source": [
    "class LR(nn.Module):\n",
    "    def __init__(self):\n",
    "        super(LR,self).__init__()\n",
    "        self.fc=nn.Linear(28*28,10)\n",
    "        \n",
    "    def forward(self,x):\n",
    "        x=x.view(-1,784)\n",
    "        x=self.fc(x)\n",
    "        return F.log_softmax(x,dim=1)"
   ],
   "id": "5e5968b0e18ca2d4",
   "outputs": [],
   "execution_count": 8
  },
  {
   "metadata": {
    "ExecuteTime": {
     "end_time": "2025-01-04T09:25:07.468530Z",
     "start_time": "2025-01-04T09:25:07.456534Z"
    }
   },
   "cell_type": "code",
   "source": [
    "def run():\n",
    "    model=LR().to(DEVICE)\n",
    "    print(model)\n",
    "    optimizer=optim.Adam(model.parameters())\n",
    "    train_test(model,DEVICE,train_loader,test_loader,optimizer,EPOCHS)\n",
    "    "
   ],
   "id": "e152eaec90dd5de6",
   "outputs": [],
   "execution_count": 9
  },
  {
   "metadata": {
    "ExecuteTime": {
     "end_time": "2025-01-04T09:26:52.740527Z",
     "start_time": "2025-01-04T09:25:07.486540Z"
    }
   },
   "cell_type": "code",
   "source": [
    "if __name__ == \"__main__\":\n",
    "    run()"
   ],
   "id": "e53377e1c0ca9497",
   "outputs": [
    {
     "name": "stdout",
     "output_type": "stream",
     "text": [
      "LR(\n",
      "  (fc): Linear(in_features=784, out_features=10, bias=True)\n",
      ")\n"
     ]
    }
   ],
   "execution_count": 10
  }
 ],
 "metadata": {
  "kernelspec": {
   "display_name": "Python 3",
   "language": "python",
   "name": "python3"
  },
  "language_info": {
   "codemirror_mode": {
    "name": "ipython",
    "version": 2
   },
   "file_extension": ".py",
   "mimetype": "text/x-python",
   "name": "python",
   "nbconvert_exporter": "python",
   "pygments_lexer": "ipython2",
   "version": "2.7.6"
  }
 },
 "nbformat": 4,
 "nbformat_minor": 5
}
